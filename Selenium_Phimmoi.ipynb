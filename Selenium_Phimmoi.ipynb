{
 "cells": [
  {
   "cell_type": "code",
   "execution_count": 1,
   "metadata": {},
   "outputs": [],
   "source": [
    "from selenium import webdriver\n",
    "from selenium.webdriver.common.keys import Keys\n",
    "import pandas as pd\n",
    "import os\n",
    "import time\n",
    "from selenium.webdriver.chrome.options import Options"
   ]
  },
  {
   "cell_type": "code",
   "execution_count": 34,
   "metadata": {},
   "outputs": [],
   "source": [
    "browser = webdriver.Chrome()\n",
    "#browser.maximize_window()\n",
    "time.sleep(3)\n",
    "browser.get(\"http://www.phimmoi.net\")\n",
    "element=browser.find_element_by_xpath(\"\"\"//*[@id=\"mega-menu-1\"]/li[7]/a\"\"\")\n",
    "element.click()\n",
    "elements=browser.find_elements_by_class_name('movie-item')\n",
    "elements[0].click()"
   ]
  },
  {
   "cell_type": "code",
   "execution_count": 52,
   "metadata": {},
   "outputs": [],
   "source": [
    "data={\"Tên\":[],\"Điểm IMDb\":[],\"Điểm AW\":[],\"Đạo diễn\":[],\"Quốc gia\":[],\"Năm\":[],\"Ngày ra rạp\":[],\"Thời lượng\":[],\"Lượt Xem\":[]}"
   ]
  },
  {
   "cell_type": "code",
   "execution_count": 53,
   "metadata": {},
   "outputs": [],
   "source": [
    "# data[\"Tên\"].append(browser.find_element_by_xpath('/html/body/div[3]/div[6]/div[1]/div[1]/div[1]/div[1]/div/div[1]/h1/span[1]/a').text)\n",
    "# data[\"Điểm IMDb\"].append(browser.find_element_by_xpath('/html/body/div[3]/div[6]/div[1]/div[1]/div[1]/div[1]/div/div[1]/div[1]/div[1]/dl/dd[2]').text+\" \"+browser.find_element_by_xpath('/html/body/div[3]/div[6]/div[1]/div[1]/div[1]/div[1]/div/div[1]/div[1]/div[1]/dl/dd[3]').text)\n",
    "# data[\"Điểm AW\"].append(browser.find_element_by_xpath('/html/body/div[3]/div[6]/div[1]/div[1]/div[1]/div[1]/div/div[1]/div[1]/div[1]/dl/dd[4]').text+\" \"+browser.find_element_by_xpath('/html/body/div[3]/div[6]/div[1]/div[1]/div[1]/div[1]/div/div[1]/div[1]/div[1]/dl/dd[5]').text)\n",
    "# data[\"Đạo diễn\"].append(browser.find_element_by_class_name('director').text)\n",
    "# data[\"Quốc gia\"].append(browser.find_element_by_class_name('country').text)\n",
    "# data[\"Năm\"].append(browser.find_element_by_xpath('/html/body/div[3]/div[6]/div[1]/div[1]/div[1]/div[1]/div/div[1]/div[1]/div[1]/dl/dd[8]').text)\n",
    "# data[\"Ngày ra rạp\"].append(browser.find_element_by_xpath('/html/body/div[3]/div[6]/div[1]/div[1]/div[1]/div[1]/div/div[1]/div[1]/div[1]/dl/dd[9]').text)\n",
    "# data[\"Thời lượng\"].append(browser.find_element_by_xpath('/html/body/div[3]/div[6]/div[1]/div[1]/div[1]/div[1]/div/div[1]/div[1]/div[1]/dl/dd[10]').text)\n",
    "# data[\"Lượt Xem\"].append(browser.find_element_by_xpath('/html/body/div[3]/div[6]/div[1]/div[1]/div[1]/div[1]/div/div[1]/div[1]/div[1]/dl/dd[16]').text)"
   ]
  },
  {
   "cell_type": "code",
   "execution_count": 80,
   "metadata": {},
   "outputs": [
    {
     "name": "stdout",
     "output_type": "stream",
     "text": [
      "Trạng thái: : Hoàn tất\n",
      "Điểm IMDb: : 5.7\n",
      " : (705 votes)\n",
      "Đạo diễn: : Scott Speer,\n",
      "Quốc gia: : Mỹ,\n",
      "Năm: : 2018\n",
      "Ngày ra rạp: : 27/9/2018\n",
      "Thời lượng: : 98 phút\n",
      "Chất lượng: : Bản đẹp\n",
      "Độ phân giải: : Full HD\n",
      "Ngôn ngữ: : Phụ đề Việt\n",
      " : \n",
      " : \n",
      " : \n"
     ]
    }
   ],
   "source": [
    "ele=browser.find_elements_by_tag_name('dd')\n",
    "ele2=browser.find_elements_by_tag_name('dt')\n",
    "for i,j in zip(ele2,ele):\n",
    "    print(i.text,\":\",j.text)\n",
    "    "
   ]
  },
  {
   "cell_type": "code",
   "execution_count": null,
   "metadata": {},
   "outputs": [],
   "source": []
  }
 ],
 "metadata": {
  "kernelspec": {
   "display_name": "Python 3",
   "language": "python",
   "name": "python3"
  },
  "language_info": {
   "codemirror_mode": {
    "name": "ipython",
    "version": 3
   },
   "file_extension": ".py",
   "mimetype": "text/x-python",
   "name": "python",
   "nbconvert_exporter": "python",
   "pygments_lexer": "ipython3",
   "version": "3.7.0"
  }
 },
 "nbformat": 4,
 "nbformat_minor": 2
}
