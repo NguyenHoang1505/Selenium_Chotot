{
 "cells": [
  {
   "cell_type": "code",
   "execution_count": 57,
   "metadata": {},
   "outputs": [],
   "source": [
    "from selenium import webdriver\n",
    "from selenium.webdriver.common.keys import Keys\n",
    "import pandas as pd\n",
    "import os\n",
    "import time\n",
    "from selenium.webdriver.chrome.options import Options"
   ]
  },
  {
   "cell_type": "code",
   "execution_count": 58,
   "metadata": {},
   "outputs": [],
   "source": [
    "data={\"Id\":[],\"Tên người dùng\":[],\"SĐT\":[],\"Địa chỉ\":[],\"Khu vực\":[],\"Mặt hàng\":[],\"Giá\":[],\"Mô tả\":[],\"Thời gian đăng\":[],\"Loại tin\":[]}\n",
    "data_xpath={\"Tên người dùng\":[],\"SĐT\":[],\"Địa chỉ\":[],\"Khu vực\":[],\"Mặt hàng\":[],\"Giá\":[],\"Mô tả\":[],\"Thời gian đăng\":[],\"Loại tin\":[]}"
   ]
  },
  {
   "cell_type": "code",
   "execution_count": 59,
   "metadata": {},
   "outputs": [],
   "source": [
    "data_xpath['Tên người dùng']='//*[@id=\"app\"]/div[2]/main/article/div[1]/div[2]/div[2]/div/div[2]/div/div[1]/div/div[2]/div[1]'\n",
    "data_xpath['Giá']='//*[@id=\"app\"]/div[2]/main/article/div[1]/div[2]/div[1]/div[2]/div[2]/div[1]/div[1]/span[1]/span[1]'\n",
    "data_xpath['Mặt hàng']='//*[@id=\"app\"]/div[2]/main/article/div[1]/div[2]/div[1]/div[2]/div[1]/h1'\n",
    "data_xpath['Mô tả']='//*[@id=\"app\"]/div[2]/main/article/div[1]/div[2]/div[1]/div[2]/p'\n",
    "data_xpath['SĐT']='//*[@id=\"app\"]/div[2]/main/article/div[1]/div[2]/div[2]/div/div[2]/div/div[2]/div[1]/h4/strong'\n",
    "data_xpath['Địa chỉ']='//*[@id=\"app\"]/div[2]/main/article/div[1]/div[2]/div[2]/div/div[2]/div/div[1]/div/div[2]/div[2]/span'\n",
    "data_xpath['Thời gian đăng']='//*[@id=\"app\"]/div[2]/main/article/div[1]/div[2]/div[1]/div[1]/div[2]/span'\n",
    "data_xpath['Khu vực']='//*[@id=\"app\"]/div[2]/main/article/div[1]/div[2]/div[1]/div[2]/div[4]/div/div[2]/div'\n",
    "data_xpath['Loại tin']='//*[@id=\"app\"]/div[2]/main/article/div[1]/div[2]/div[1]/div[2]/div[3]/div/div/div/div[2]/span'"
   ]
  },
  {
   "cell_type": "code",
   "execution_count": 60,
   "metadata": {},
   "outputs": [],
   "source": [
    "chrome_options = Options()\n",
    "chrome_options.add_argument(\"--headless\")\n",
    "chrome_options.add_argument(\"--window-size=1920x1080\")"
   ]
  },
  {
   "cell_type": "code",
   "execution_count": 61,
   "metadata": {},
   "outputs": [
    {
     "name": "stderr",
     "output_type": "stream",
     "text": [
      "/home/hoang/anaconda3/lib/python3.7/site-packages/ipykernel_launcher.py:1: DeprecationWarning: use options instead of chrome_options\n",
      "  \"\"\"Entry point for launching an IPython kernel.\n"
     ]
    }
   ],
   "source": [
    "browser = webdriver.Chrome(chrome_options=chrome_options)"
   ]
  },
  {
   "cell_type": "code",
   "execution_count": 62,
   "metadata": {},
   "outputs": [],
   "source": [
    "# chrome_options = webdriver.ChromeOptions()\n",
    "# prefs = {\"profile.managed_default_content_settings.images\": 2}\n",
    "# chrome_options.add_experimental_option(\"prefs\", prefs)\n",
    "# browser = webdriver.Chrome(chrome_options=chrome_options)"
   ]
  },
  {
   "cell_type": "code",
   "execution_count": 63,
   "metadata": {},
   "outputs": [],
   "source": [
    "browser.get(\"https://www.chotot.com/ha-noi/quan-ba-dinh/mua-ban\")\n",
    "time.sleep(1)\n",
    "browser.maximize_window()\n",
    "time.sleep(2)"
   ]
  },
  {
   "cell_type": "code",
   "execution_count": 64,
   "metadata": {},
   "outputs": [],
   "source": [
    "element=browser.find_element_by_xpath('//*[@id=\"app\"]/div[2]/main/div/div/div[1]/main/div/div[1]/div[6]/div/div[2]/ul/div[1]')\n",
    "element.click()\n",
    "time.sleep(1)"
   ]
  },
  {
   "cell_type": "code",
   "execution_count": 65,
   "metadata": {},
   "outputs": [],
   "source": [
    "#Ham an next bai\n",
    "def Next_ad():\n",
    "    try:\n",
    "        element_Next=browser.find_element_by_id('next_ad')\n",
    "        element_Next.click()\n",
    "    except:\n",
    "        browser.refresh()\n",
    "#Ham show so dien thoai\n",
    "def show_phone_bnt():\n",
    "    try:\n",
    "        element_showphone=browser.find_element_by_id('show_phone_bnt')\n",
    "        element_showphone.click()\n",
    "    except:\n",
    "        pass\n",
    "def Crawl_item():\n",
    "    try:\n",
    "        data['Thời gian đăng'].append(browser.find_element_by_xpath(data_xpath['Thời gian đăng']).text)\n",
    "    except:\n",
    "        data['Thời gian đăng'].append('')\n",
    "    try:\n",
    "        data['Tên người dùng'].append(browser.find_element_by_xpath(data_xpath['Tên người dùng']).text)\n",
    "    except:\n",
    "        data['Tên người dùng'].append('')\n",
    "    try:\n",
    "        data['Giá'].append(browser.find_element_by_xpath(data_xpath['Giá']).text)\n",
    "    except:\n",
    "        data['Giá'].append('')\n",
    "    try:\n",
    "        data['Mô tả'].append(browser.find_element_by_xpath(data_xpath['Mô tả']).text)\n",
    "    except:\n",
    "        data['Mô tả'].append('')\n",
    "    try:\n",
    "        data['Mặt hàng'].append(browser.find_element_by_xpath(data_xpath['Mặt hàng']).text)\n",
    "    except:\n",
    "        data['Mặt hàng'].append('')\n",
    "    try:\n",
    "        data['SĐT'].append(browser.find_element_by_xpath(data_xpath['SĐT']).text)\n",
    "    except:\n",
    "        data['SĐT'].append('')\n",
    "    try:\n",
    "        data['Địa chỉ'].append(browser.find_element_by_xpath(data_xpath['Địa chỉ']).text)\n",
    "    except:\n",
    "        data['Địa chỉ'].append('')\n",
    "    try:\n",
    "        data['Khu vực'].append(browser.find_element_by_xpath(data_xpath['Khu vực']).text)\n",
    "    except:\n",
    "        pass\n",
    "    try:\n",
    "        data['Loại tin'].append(browser.find_element_by_xpath(data_xpath['Loại tin']).text)\n",
    "    except:\n",
    "        data['Loại tin'].append('Cần bán')"
   ]
  },
  {
   "cell_type": "code",
   "execution_count": 66,
   "metadata": {},
   "outputs": [
    {
     "name": "stdout",
     "output_type": "stream",
     "text": [
      "Crawl data 1 : Done\n",
      "Crawl data 2 : Done\n",
      "Crawl data 3 : Done\n",
      "Crawl data 4 : Done\n",
      "Crawl data 5 : Done\n",
      "Crawl data 6 : Done\n",
      "Crawl data 7 : Done\n",
      "Crawl data 8 : Done\n",
      "Crawl data 9 : Done\n"
     ]
    }
   ],
   "source": [
    "for i in range(1,10):\n",
    "    print(\"Crawl data\",i,':',end=' ')\n",
    "    show_phone_bnt()\n",
    "    time.sleep(1)\n",
    "    try:\n",
    "        Id=''\n",
    "        Id=browser.current_url.split('/')[5].split('.')[0]\n",
    "        if Id in list(data['Id']):\n",
    "            Next_ad()\n",
    "            continue\n",
    "        data['Id'].append(Id)\n",
    "    except:\n",
    "        continue\n",
    "    Crawl_item()\n",
    "    Next_ad()\n",
    "    print('Done')\n",
    "    time.sleep(2)"
   ]
  },
  {
   "cell_type": "code",
   "execution_count": 67,
   "metadata": {},
   "outputs": [],
   "source": [
    "# data_handle=data.copy()\n",
    "# data_handle['Loại khách hàng']=''"
   ]
  },
  {
   "cell_type": "code",
   "execution_count": 54,
   "metadata": {},
   "outputs": [],
   "source": [
    "# for i in range(data_handle.shape[0]):\n",
    "#     try:\n",
    "#         copy=data_handle['Thời gian đăng'][i]\n",
    "#         data_handle['Thời gian đăng'][i]=copy.split('đăng')[1]\n",
    "#         data_handle['Loại khách hàng'][i]=copy.split('đăng')[0]\n",
    "#     except:\n",
    "#         pass"
   ]
  },
  {
   "cell_type": "code",
   "execution_count": 68,
   "metadata": {},
   "outputs": [],
   "source": [
    "data=pd.DataFrame(data)"
   ]
  },
  {
   "cell_type": "code",
   "execution_count": 205,
   "metadata": {},
   "outputs": [],
   "source": [
    "data.to_csv('data_chotot.csv')"
   ]
  },
  {
   "cell_type": "code",
   "execution_count": null,
   "metadata": {},
   "outputs": [],
   "source": []
  }
 ],
 "metadata": {
  "kernelspec": {
   "display_name": "Python 3",
   "language": "python",
   "name": "python3"
  },
  "language_info": {
   "codemirror_mode": {
    "name": "ipython",
    "version": 3
   },
   "file_extension": ".py",
   "mimetype": "text/x-python",
   "name": "python",
   "nbconvert_exporter": "python",
   "pygments_lexer": "ipython3",
   "version": "3.7.0"
  }
 },
 "nbformat": 4,
 "nbformat_minor": 2
}
